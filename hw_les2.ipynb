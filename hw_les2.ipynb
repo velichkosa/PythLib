{
  "nbformat": 4,
  "nbformat_minor": 0,
  "metadata": {
    "colab": {
      "name": "HW1.ipynb",
      "provenance": [],
      "collapsed_sections": []
    },
    "kernelspec": {
      "name": "python3",
      "display_name": "Python 3"
    },
    "language_info": {
      "name": "python"
    }
  },
  "cells": [
    {
      "cell_type": "markdown",
      "metadata": {
        "id": "5WNKUxZGLT2U"
      },
      "source": [
        "#**Тема “Вычисления с помощью Numpy”**"
      ]
    },
    {
      "cell_type": "markdown",
      "metadata": {
        "id": "OVC9jj5No4RP"
      },
      "source": [
        "#**Задание 1**\n",
        "Импортируйте библиотеку Numpy и дайте ей псевдоним np.\n",
        "Создайте массив Numpy под названием a размером 5x2, то есть состоящий из 5 строк и 2 столбцов. Первый столбец должен содержать числа 1, 2, 3, 3, 1, а второй - числа 6, 8, 11, 10, 7. \n",
        "Будем считать, что каждый столбец - это признак, а строка - наблюдение. Затем найдите среднее значение по каждому признаку, используя метод mean массива Numpy. Результат запишите в массив \n",
        "mean_a, в нем должно быть 2 элемента.\n"
      ]
    },
    {
      "cell_type": "code",
      "metadata": {
        "id": "GrJJGEkTk_NP"
      },
      "source": [
        "import numpy as np\n",
        "\n",
        "a = np.array([[1, 6], [2, 8], [3,11], [3,10], [1, 7]])\n",
        "mean_a = np.mean(a, axis = 0)\n",
        "print(f\"Result {mean_a}\")"
      ],
      "execution_count": null,
      "outputs": []
    },
    {
      "cell_type": "markdown",
      "metadata": {
        "id": "qJacAnijovum"
      },
      "source": [
        "# **Задание 2**\n",
        "Вычислите массив a_centered, отняв от значений массива “а” средние значения соответствующих признаков, содержащиеся в массиве mean_a. Вычисление должно производиться в одно действие. Получившийся массив должен иметь размер 5x2.\n"
      ]
    },
    {
      "cell_type": "code",
      "metadata": {
        "id": "Yz7xduGHo3mm"
      },
      "source": [
        "a_centered = np.subtract(a, mean_a)\n",
        "print(a)\n",
        "print(mean_a)\n",
        "a_centered"
      ],
      "execution_count": null,
      "outputs": []
    },
    {
      "cell_type": "markdown",
      "metadata": {
        "id": "qXNLaO__ru9H"
      },
      "source": [
        "#**Задание 3**\n",
        "Найдите скалярное произведение столбцов массива a_centered. В результате должна получиться величина a_centered_sp. Затем поделите a_centered_sp на N-1, где N - число наблюдений.\n"
      ]
    },
    {
      "cell_type": "code",
      "metadata": {
        "id": "JYEdGlbor9xW"
      },
      "source": [
        "a_centered_sp = (np.dot(a_centered[:, 0], a_centered[:, 1])) / (a_centered.shape[0] - 1)\n",
        "a_centered_sp"
      ],
      "execution_count": null,
      "outputs": []
    },
    {
      "cell_type": "markdown",
      "metadata": {
        "id": "hk0SE96kxiIk"
      },
      "source": [
        "#**Задание 4** **\n",
        "Число, которое мы получили в конце задания 3 является ковариацией двух признаков, содержащихся в массиве “а”. В задании 4 мы делили сумму произведений центрированных признаков на N-1, а не на N, поэтому полученная нами величина является несмещенной оценкой ковариации.\n",
        "Подробнее узнать о ковариации можно здесь:\n",
        "Выборочная ковариация и выборочная дисперсия — Студопедия\n",
        "В этом задании проверьте получившееся число, вычислив ковариацию еще одним способом - с помощью функции np.cov. В качестве аргумента m функция np.cov должна принимать транспонированный массив “a”. В получившейся ковариационной матрице (массив Numpy размером 2x2) искомое значение ковариации будет равно элементу в строке с индексом 0 и столбце с индексом 1.\n"
      ]
    },
    {
      "cell_type": "code",
      "metadata": {
        "id": "CGs0FFUtxtzh"
      },
      "source": [
        "np.cov(np.transpose(a))"
      ],
      "execution_count": null,
      "outputs": []
    },
    {
      "cell_type": "markdown",
      "metadata": {
        "id": "fSTbkIP6LelV"
      },
      "source": [
        "#**Тема “Работа с данными в Pandas”**"
      ]
    },
    {
      "cell_type": "markdown",
      "metadata": {
        "id": "-cKO6d94MFta"
      },
      "source": [
        "#**Задание 1**\n",
        "Импортируйте библиотеку Pandas и дайте ей псевдоним pd. Создайте датафрейм authors со столбцами author_id и author_name, в которых соответственно содержатся данные: [1, 2, 3] и ['Тургенев', 'Чехов', 'Островский'].\n",
        "Затем создайте датафрейм book cо столбцами author_id, book_title и price, в которых соответственно содержатся данные:  \n",
        "[1, 1, 1, 2, 2, 3, 3],\n",
        "['Отцы и дети', 'Рудин', 'Дворянское гнездо', 'Толстый и тонкий', 'Дама с собачкой', 'Гроза', 'Таланты и поклонники'],\n",
        "[450, 300, 350, 500, 450, 370, 290].\n"
      ]
    },
    {
      "cell_type": "code",
      "metadata": {
        "id": "7YoFo9jQMLJ0"
      },
      "source": [
        "import pandas as pd\n",
        "authors = pd.DataFrame({\"author_id\": [1, 2, 3], \"author_name\": ['Тургенев' , 'Чехов', 'Островский']})\n",
        "book = pd.DataFrame({\"author_id\": [1, 1, 1, 2, 2, 3, 3], \"book_title\": ['Отцы и дети', 'Рудин', 'Дворянское гнездо', 'Толстый и тонкий', 'Дама с собачкой', 'Гроза', 'Таланты и поклонники'], \n",
        "                     \"price\": [450, 300, 350, 500, 450, 370, 290]})"
      ],
      "execution_count": 3,
      "outputs": []
    },
    {
      "cell_type": "markdown",
      "metadata": {
        "id": "f-ZMPKcqO93q"
      },
      "source": [
        "# **Задание 2**\n",
        "Получите датафрейм authors_price, соединив датафреймы authors и books по полю author_id.\n"
      ]
    },
    {
      "cell_type": "code",
      "metadata": {
        "colab": {
          "base_uri": "https://localhost:8080/",
          "height": 266
        },
        "id": "DnY1DBcnPDhU",
        "outputId": "7b23aa66-bf08-4e93-e851-f38553d108e4"
      },
      "source": [
        "authors_price = pd.merge(authors, book, on = 'author_id', how = 'inner')\n",
        "authors_price"
      ],
      "execution_count": 4,
      "outputs": [
        {
          "output_type": "execute_result",
          "data": {
            "text/html": [
              "<div>\n",
              "<style scoped>\n",
              "    .dataframe tbody tr th:only-of-type {\n",
              "        vertical-align: middle;\n",
              "    }\n",
              "\n",
              "    .dataframe tbody tr th {\n",
              "        vertical-align: top;\n",
              "    }\n",
              "\n",
              "    .dataframe thead th {\n",
              "        text-align: right;\n",
              "    }\n",
              "</style>\n",
              "<table border=\"1\" class=\"dataframe\">\n",
              "  <thead>\n",
              "    <tr style=\"text-align: right;\">\n",
              "      <th></th>\n",
              "      <th>author_id</th>\n",
              "      <th>author_name</th>\n",
              "      <th>book_title</th>\n",
              "      <th>price</th>\n",
              "    </tr>\n",
              "  </thead>\n",
              "  <tbody>\n",
              "    <tr>\n",
              "      <th>0</th>\n",
              "      <td>1</td>\n",
              "      <td>Тургенев</td>\n",
              "      <td>Отцы и дети</td>\n",
              "      <td>450</td>\n",
              "    </tr>\n",
              "    <tr>\n",
              "      <th>1</th>\n",
              "      <td>1</td>\n",
              "      <td>Тургенев</td>\n",
              "      <td>Рудин</td>\n",
              "      <td>300</td>\n",
              "    </tr>\n",
              "    <tr>\n",
              "      <th>2</th>\n",
              "      <td>1</td>\n",
              "      <td>Тургенев</td>\n",
              "      <td>Дворянское гнездо</td>\n",
              "      <td>350</td>\n",
              "    </tr>\n",
              "    <tr>\n",
              "      <th>3</th>\n",
              "      <td>2</td>\n",
              "      <td>Чехов</td>\n",
              "      <td>Толстый и тонкий</td>\n",
              "      <td>500</td>\n",
              "    </tr>\n",
              "    <tr>\n",
              "      <th>4</th>\n",
              "      <td>2</td>\n",
              "      <td>Чехов</td>\n",
              "      <td>Дама с собачкой</td>\n",
              "      <td>450</td>\n",
              "    </tr>\n",
              "    <tr>\n",
              "      <th>5</th>\n",
              "      <td>3</td>\n",
              "      <td>Островский</td>\n",
              "      <td>Гроза</td>\n",
              "      <td>370</td>\n",
              "    </tr>\n",
              "    <tr>\n",
              "      <th>6</th>\n",
              "      <td>3</td>\n",
              "      <td>Островский</td>\n",
              "      <td>Таланты и поклонники</td>\n",
              "      <td>290</td>\n",
              "    </tr>\n",
              "  </tbody>\n",
              "</table>\n",
              "</div>"
            ],
            "text/plain": [
              "   author_id author_name            book_title  price\n",
              "0          1    Тургенев           Отцы и дети    450\n",
              "1          1    Тургенев                 Рудин    300\n",
              "2          1    Тургенев     Дворянское гнездо    350\n",
              "3          2       Чехов      Толстый и тонкий    500\n",
              "4          2       Чехов       Дама с собачкой    450\n",
              "5          3  Островский                 Гроза    370\n",
              "6          3  Островский  Таланты и поклонники    290"
            ]
          },
          "metadata": {
            "tags": []
          },
          "execution_count": 4
        }
      ]
    },
    {
      "cell_type": "markdown",
      "metadata": {
        "id": "zkgWxkziP0Ov"
      },
      "source": [
        "# **Задание 3**\n",
        "Создайте датафрейм top5, в котором содержатся строки из authors_price с пятью самыми дорогими книгами.\n"
      ]
    },
    {
      "cell_type": "code",
      "metadata": {
        "id": "TOyr3aKEQT4J",
        "colab": {
          "base_uri": "https://localhost:8080/",
          "height": 142
        },
        "outputId": "5be1ba57-997c-469e-bcfc-b16be17d7441"
      },
      "source": [
        "top5 = authors_price.nlargest(3, 'price')\n",
        "top5"
      ],
      "execution_count": 5,
      "outputs": [
        {
          "output_type": "execute_result",
          "data": {
            "text/html": [
              "<div>\n",
              "<style scoped>\n",
              "    .dataframe tbody tr th:only-of-type {\n",
              "        vertical-align: middle;\n",
              "    }\n",
              "\n",
              "    .dataframe tbody tr th {\n",
              "        vertical-align: top;\n",
              "    }\n",
              "\n",
              "    .dataframe thead th {\n",
              "        text-align: right;\n",
              "    }\n",
              "</style>\n",
              "<table border=\"1\" class=\"dataframe\">\n",
              "  <thead>\n",
              "    <tr style=\"text-align: right;\">\n",
              "      <th></th>\n",
              "      <th>author_id</th>\n",
              "      <th>author_name</th>\n",
              "      <th>book_title</th>\n",
              "      <th>price</th>\n",
              "    </tr>\n",
              "  </thead>\n",
              "  <tbody>\n",
              "    <tr>\n",
              "      <th>3</th>\n",
              "      <td>2</td>\n",
              "      <td>Чехов</td>\n",
              "      <td>Толстый и тонкий</td>\n",
              "      <td>500</td>\n",
              "    </tr>\n",
              "    <tr>\n",
              "      <th>0</th>\n",
              "      <td>1</td>\n",
              "      <td>Тургенев</td>\n",
              "      <td>Отцы и дети</td>\n",
              "      <td>450</td>\n",
              "    </tr>\n",
              "    <tr>\n",
              "      <th>4</th>\n",
              "      <td>2</td>\n",
              "      <td>Чехов</td>\n",
              "      <td>Дама с собачкой</td>\n",
              "      <td>450</td>\n",
              "    </tr>\n",
              "  </tbody>\n",
              "</table>\n",
              "</div>"
            ],
            "text/plain": [
              "   author_id author_name        book_title  price\n",
              "3          2       Чехов  Толстый и тонкий    500\n",
              "0          1    Тургенев       Отцы и дети    450\n",
              "4          2       Чехов   Дама с собачкой    450"
            ]
          },
          "metadata": {
            "tags": []
          },
          "execution_count": 5
        }
      ]
    },
    {
      "cell_type": "markdown",
      "metadata": {
        "id": "sNHu3gj_X7_x"
      },
      "source": [
        "# **Задание 4**\n",
        "Создайте датафрейм authors_stat на основе информации из authors_price. В датафрейме authors_stat должны быть четыре столбца:\n",
        "author_name, min_price, max_price и mean_price,\n",
        "в которых должны содержаться соответственно имя автора, минимальная, максимальная и средняя цена на книги этого автора.\n"
      ]
    },
    {
      "cell_type": "code",
      "metadata": {
        "colab": {
          "base_uri": "https://localhost:8080/",
          "height": 173
        },
        "id": "cjwiwpDYX-F2",
        "outputId": "684fed5d-0d50-4446-c8a7-f14956267e18"
      },
      "source": [
        "authors_stat = authors_price.groupby('author_name').price.agg(min_price = 'min', \n",
        "                                                              max_price = 'max', \n",
        "                                                              mean_price = 'mean')\n",
        "authors_stat"
      ],
      "execution_count": 64,
      "outputs": [
        {
          "output_type": "execute_result",
          "data": {
            "text/html": [
              "<div>\n",
              "<style scoped>\n",
              "    .dataframe tbody tr th:only-of-type {\n",
              "        vertical-align: middle;\n",
              "    }\n",
              "\n",
              "    .dataframe tbody tr th {\n",
              "        vertical-align: top;\n",
              "    }\n",
              "\n",
              "    .dataframe thead th {\n",
              "        text-align: right;\n",
              "    }\n",
              "</style>\n",
              "<table border=\"1\" class=\"dataframe\">\n",
              "  <thead>\n",
              "    <tr style=\"text-align: right;\">\n",
              "      <th></th>\n",
              "      <th>min_price</th>\n",
              "      <th>max_price</th>\n",
              "      <th>mean_price</th>\n",
              "    </tr>\n",
              "    <tr>\n",
              "      <th>author_name</th>\n",
              "      <th></th>\n",
              "      <th></th>\n",
              "      <th></th>\n",
              "    </tr>\n",
              "  </thead>\n",
              "  <tbody>\n",
              "    <tr>\n",
              "      <th>Островский</th>\n",
              "      <td>290</td>\n",
              "      <td>370</td>\n",
              "      <td>330.000000</td>\n",
              "    </tr>\n",
              "    <tr>\n",
              "      <th>Тургенев</th>\n",
              "      <td>300</td>\n",
              "      <td>450</td>\n",
              "      <td>366.666667</td>\n",
              "    </tr>\n",
              "    <tr>\n",
              "      <th>Чехов</th>\n",
              "      <td>450</td>\n",
              "      <td>500</td>\n",
              "      <td>475.000000</td>\n",
              "    </tr>\n",
              "  </tbody>\n",
              "</table>\n",
              "</div>"
            ],
            "text/plain": [
              "             min_price  max_price  mean_price\n",
              "author_name                                  \n",
              "Островский         290        370  330.000000\n",
              "Тургенев           300        450  366.666667\n",
              "Чехов              450        500  475.000000"
            ]
          },
          "metadata": {
            "tags": []
          },
          "execution_count": 64
        }
      ]
    }
  ]
}